{
  "nbformat": 4,
  "nbformat_minor": 0,
  "metadata": {
    "colab": {
      "name": "ПР1 Гильмитдинова.ipynb",
      "provenance": [],
      "collapsed_sections": []
    },
    "kernelspec": {
      "name": "python3",
      "display_name": "Python 3"
    }
  },
  "cells": [
    {
      "cell_type": "code",
      "metadata": {
        "id": "ISv_uzHOl6oB"
      },
      "source": [
        ""
      ],
      "execution_count": null,
      "outputs": []
    },
    {
      "cell_type": "markdown",
      "metadata": {
        "id": "Viiw7abin-WH"
      },
      "source": [
        "Гильмитдинова Анастасия Андреевна, КИ19-21Б"
      ]
    },
    {
      "cell_type": "code",
      "metadata": {
        "id": "L--6rpP5oGWq"
      },
      "source": [
        "#@markdown Привет, мир"
      ],
      "execution_count": 2,
      "outputs": []
    },
    {
      "cell_type": "code",
      "metadata": {
        "id": "rf-LCaoMrH8c"
      },
      "source": [
        ""
      ],
      "execution_count": null,
      "outputs": []
    }
  ]
}